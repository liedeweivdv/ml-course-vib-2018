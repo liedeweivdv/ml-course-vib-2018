{
 "cells": [
  {
   "cell_type": "code",
   "execution_count": 3,
   "metadata": {
    "hideCode": false,
    "hidePrompt": false
   },
   "outputs": [],
   "source": [
    "%matplotlib inline\n",
    "\n",
    "import matplotlib.pyplot as plt\n",
    "import numpy as np\n",
    "import pandas as pd"
   ]
  },
  {
   "cell_type": "markdown",
   "metadata": {},
   "source": [
    "# 1. Preprocess data"
   ]
  },
  {
   "cell_type": "code",
   "execution_count": 4,
   "metadata": {
    "hideCode": false,
    "hidePrompt": false
   },
   "outputs": [],
   "source": [
    "train_data = pd.read_csv(\"train.csv\")\n",
    "test_data = pd.read_csv(\"test.csv\")"
   ]
  },
  {
   "cell_type": "code",
   "execution_count": 5,
   "metadata": {
    "hideCode": false,
    "hidePrompt": false
   },
   "outputs": [
    {
     "name": "stdout",
     "output_type": "stream",
     "text": [
      "(10000, 15)\n",
      "(4980, 15)\n"
     ]
    }
   ],
   "source": [
    "print train_data.shape\n",
    "print test_data.shape"
   ]
  },
  {
   "cell_type": "code",
   "execution_count": 6,
   "metadata": {
    "hideCode": false,
    "hidePrompt": false
   },
   "outputs": [
    {
     "data": {
      "text/html": [
       "<div>\n",
       "<table border=\"1\" class=\"dataframe\">\n",
       "  <thead>\n",
       "    <tr style=\"text-align: right;\">\n",
       "      <th></th>\n",
       "      <th>AF3</th>\n",
       "      <th>F7</th>\n",
       "      <th>F3</th>\n",
       "      <th>FC5</th>\n",
       "      <th>T7</th>\n",
       "      <th>P7</th>\n",
       "      <th>O1</th>\n",
       "      <th>02</th>\n",
       "      <th>P8</th>\n",
       "      <th>T8</th>\n",
       "      <th>FC6</th>\n",
       "      <th>F4</th>\n",
       "      <th>F8</th>\n",
       "      <th>AF4</th>\n",
       "      <th>eyeDetection</th>\n",
       "    </tr>\n",
       "  </thead>\n",
       "  <tbody>\n",
       "    <tr>\n",
       "      <th>count</th>\n",
       "      <td>10000.000000</td>\n",
       "      <td>10000.000000</td>\n",
       "      <td>10000.000000</td>\n",
       "      <td>10000.000000</td>\n",
       "      <td>10000.000000</td>\n",
       "      <td>10000.000000</td>\n",
       "      <td>10000.000000</td>\n",
       "      <td>10000.000000</td>\n",
       "      <td>10000.000000</td>\n",
       "      <td>10000.000000</td>\n",
       "      <td>10000.000000</td>\n",
       "      <td>10000.000000</td>\n",
       "      <td>10000.000000</td>\n",
       "      <td>10000.000000</td>\n",
       "      <td>10000.000000</td>\n",
       "    </tr>\n",
       "    <tr>\n",
       "      <th>mean</th>\n",
       "      <td>4332.092934</td>\n",
       "      <td>4009.310593</td>\n",
       "      <td>4264.054266</td>\n",
       "      <td>4186.133845</td>\n",
       "      <td>4341.806736</td>\n",
       "      <td>4620.233513</td>\n",
       "      <td>4128.806712</td>\n",
       "      <td>4615.799573</td>\n",
       "      <td>4227.690358</td>\n",
       "      <td>4230.877726</td>\n",
       "      <td>4202.469369</td>\n",
       "      <td>4279.113434</td>\n",
       "      <td>4620.525506</td>\n",
       "      <td>4373.028165</td>\n",
       "      <td>0.449100</td>\n",
       "    </tr>\n",
       "    <tr>\n",
       "      <th>std</th>\n",
       "      <td>3049.686671</td>\n",
       "      <td>35.609081</td>\n",
       "      <td>38.193985</td>\n",
       "      <td>6384.464028</td>\n",
       "      <td>29.420133</td>\n",
       "      <td>39.778819</td>\n",
       "      <td>5631.138585</td>\n",
       "      <td>18.893825</td>\n",
       "      <td>2614.621005</td>\n",
       "      <td>31.398484</td>\n",
       "      <td>40.769693</td>\n",
       "      <td>38.758534</td>\n",
       "      <td>1477.445084</td>\n",
       "      <td>1167.306090</td>\n",
       "      <td>0.497427</td>\n",
       "    </tr>\n",
       "    <tr>\n",
       "      <th>min</th>\n",
       "      <td>4197.950000</td>\n",
       "      <td>2830.770000</td>\n",
       "      <td>2457.440000</td>\n",
       "      <td>4058.460000</td>\n",
       "      <td>4304.620000</td>\n",
       "      <td>4002.050000</td>\n",
       "      <td>2086.150000</td>\n",
       "      <td>4567.690000</td>\n",
       "      <td>4153.850000</td>\n",
       "      <td>1816.410000</td>\n",
       "      <td>4100.000000</td>\n",
       "      <td>2257.950000</td>\n",
       "      <td>3504.100000</td>\n",
       "      <td>4205.640000</td>\n",
       "      <td>0.000000</td>\n",
       "    </tr>\n",
       "    <tr>\n",
       "      <th>25%</th>\n",
       "      <td>4280.510000</td>\n",
       "      <td>3990.260000</td>\n",
       "      <td>4250.260000</td>\n",
       "      <td>4108.210000</td>\n",
       "      <td>4331.790000</td>\n",
       "      <td>4611.790000</td>\n",
       "      <td>4057.950000</td>\n",
       "      <td>4604.620000</td>\n",
       "      <td>4190.770000</td>\n",
       "      <td>4220.510000</td>\n",
       "      <td>4189.740000</td>\n",
       "      <td>4267.690000</td>\n",
       "      <td>4590.260000</td>\n",
       "      <td>4342.050000</td>\n",
       "      <td>0.000000</td>\n",
       "    </tr>\n",
       "    <tr>\n",
       "      <th>50%</th>\n",
       "      <td>4293.850000</td>\n",
       "      <td>4005.640000</td>\n",
       "      <td>4262.560000</td>\n",
       "      <td>4120.510000</td>\n",
       "      <td>4338.970000</td>\n",
       "      <td>4617.950000</td>\n",
       "      <td>4070.260000</td>\n",
       "      <td>4613.330000</td>\n",
       "      <td>4199.490000</td>\n",
       "      <td>4229.230000</td>\n",
       "      <td>4200.510000</td>\n",
       "      <td>4276.920000</td>\n",
       "      <td>4603.080000</td>\n",
       "      <td>4354.870000</td>\n",
       "      <td>0.000000</td>\n",
       "    </tr>\n",
       "    <tr>\n",
       "      <th>75%</th>\n",
       "      <td>4311.790000</td>\n",
       "      <td>4023.080000</td>\n",
       "      <td>4270.770000</td>\n",
       "      <td>4131.790000</td>\n",
       "      <td>4346.670000</td>\n",
       "      <td>4626.150000</td>\n",
       "      <td>4083.590000</td>\n",
       "      <td>4624.100000</td>\n",
       "      <td>4209.230000</td>\n",
       "      <td>4239.490000</td>\n",
       "      <td>4211.280000</td>\n",
       "      <td>4287.180000</td>\n",
       "      <td>4617.440000</td>\n",
       "      <td>4372.820000</td>\n",
       "      <td>1.000000</td>\n",
       "    </tr>\n",
       "    <tr>\n",
       "      <th>max</th>\n",
       "      <td>309231.000000</td>\n",
       "      <td>5500.510000</td>\n",
       "      <td>6880.510000</td>\n",
       "      <td>642564.000000</td>\n",
       "      <td>6474.360000</td>\n",
       "      <td>8092.310000</td>\n",
       "      <td>567179.000000</td>\n",
       "      <td>5087.690000</td>\n",
       "      <td>265641.000000</td>\n",
       "      <td>4362.560000</td>\n",
       "      <td>6823.080000</td>\n",
       "      <td>6904.620000</td>\n",
       "      <td>152308.000000</td>\n",
       "      <td>121026.000000</td>\n",
       "      <td>1.000000</td>\n",
       "    </tr>\n",
       "  </tbody>\n",
       "</table>\n",
       "</div>"
      ],
      "text/plain": [
       "                 AF3            F7            F3            FC5            T7  \\\n",
       "count   10000.000000  10000.000000  10000.000000   10000.000000  10000.000000   \n",
       "mean     4332.092934   4009.310593   4264.054266    4186.133845   4341.806736   \n",
       "std      3049.686671     35.609081     38.193985    6384.464028     29.420133   \n",
       "min      4197.950000   2830.770000   2457.440000    4058.460000   4304.620000   \n",
       "25%      4280.510000   3990.260000   4250.260000    4108.210000   4331.790000   \n",
       "50%      4293.850000   4005.640000   4262.560000    4120.510000   4338.970000   \n",
       "75%      4311.790000   4023.080000   4270.770000    4131.790000   4346.670000   \n",
       "max    309231.000000   5500.510000   6880.510000  642564.000000   6474.360000   \n",
       "\n",
       "                 P7             O1            02             P8            T8  \\\n",
       "count  10000.000000   10000.000000  10000.000000   10000.000000  10000.000000   \n",
       "mean    4620.233513    4128.806712   4615.799573    4227.690358   4230.877726   \n",
       "std       39.778819    5631.138585     18.893825    2614.621005     31.398484   \n",
       "min     4002.050000    2086.150000   4567.690000    4153.850000   1816.410000   \n",
       "25%     4611.790000    4057.950000   4604.620000    4190.770000   4220.510000   \n",
       "50%     4617.950000    4070.260000   4613.330000    4199.490000   4229.230000   \n",
       "75%     4626.150000    4083.590000   4624.100000    4209.230000   4239.490000   \n",
       "max     8092.310000  567179.000000   5087.690000  265641.000000   4362.560000   \n",
       "\n",
       "                FC6            F4             F8            AF4  eyeDetection  \n",
       "count  10000.000000  10000.000000   10000.000000   10000.000000  10000.000000  \n",
       "mean    4202.469369   4279.113434    4620.525506    4373.028165      0.449100  \n",
       "std       40.769693     38.758534    1477.445084    1167.306090      0.497427  \n",
       "min     4100.000000   2257.950000    3504.100000    4205.640000      0.000000  \n",
       "25%     4189.740000   4267.690000    4590.260000    4342.050000      0.000000  \n",
       "50%     4200.510000   4276.920000    4603.080000    4354.870000      0.000000  \n",
       "75%     4211.280000   4287.180000    4617.440000    4372.820000      1.000000  \n",
       "max     6823.080000   6904.620000  152308.000000  121026.000000      1.000000  "
      ]
     },
     "execution_count": 6,
     "metadata": {},
     "output_type": "execute_result"
    }
   ],
   "source": [
    "train_data.describe()"
   ]
  },
  {
   "cell_type": "code",
   "execution_count": 7,
   "metadata": {},
   "outputs": [
    {
     "data": {
      "image/png": "[encoded data removed]",
      "text/plain": [
       "<matplotlib.figure.Figure at 0xb9839e8>"
      ]
     },
     "metadata": {},
     "output_type": "display_data"
    }
   ],
   "source": [
    "plt.figure(figsize=(14,6))\n",
    "train_data.boxplot()\n",
    "plt.show()"
   ]
  },
  {
   "cell_type": "code",
   "execution_count": 8,
   "metadata": {
    "hideCode": false,
    "hidePrompt": false
   },
   "outputs": [],
   "source": [
    "from sklearn import preprocessing\n",
    "\n",
    "scaler = preprocessing.StandardScaler()\n",
    "tmp = pd.DataFrame(scaler.fit_transform(train_data),columns=train_data.columns)"
   ]
  },
  {
   "cell_type": "code",
   "execution_count": 9,
   "metadata": {
    "hideCode": false,
    "hidePrompt": false
   },
   "outputs": [
    {
     "data": {
      "image/png": "[encoded data removed]",
      "text/plain": [
       "<matplotlib.figure.Figure at 0xdbf5b70>"
      ]
     },
     "metadata": {},
     "output_type": "display_data"
    }
   ],
   "source": [
    "plt.figure(figsize=(14,6))\n",
    "tmp.boxplot()\n",
    "plt.show()"
   ]
  },
  {
   "cell_type": "code",
   "execution_count": 10,
   "metadata": {
    "hideCode": false,
    "hidePrompt": false
   },
   "outputs": [],
   "source": [
    "tmp2 = tmp.pop('eyeDetection')"
   ]
  },
  {
   "cell_type": "code",
   "execution_count": 11,
   "metadata": {
    "hideCode": false,
    "hidePrompt": false
   },
   "outputs": [],
   "source": [
    "from scipy import stats\n",
    "\n",
    "train_data = train_data[(np.abs(stats.zscore(train_data)) < 3).all(axis=1)]"
   ]
  },
  {
   "cell_type": "code",
   "execution_count": 12,
   "metadata": {
    "hideCode": false,
    "hidePrompt": false
   },
   "outputs": [],
   "source": [
    "train_set_x = train_data\n",
    "train_set_y = train_set_x.pop(\"eyeDetection\")\n",
    "test_set_x = test_data\n",
    "test_set_y = test_set_x.pop(\"eyeDetection\")"
   ]
  },
  {
   "cell_type": "code",
   "execution_count": 13,
   "metadata": {},
   "outputs": [],
   "source": [
    "scaler = preprocessing.StandardScaler()\n",
    "\n",
    "scaler.fit(train_set_x)\n",
    "train_set_x = pd.DataFrame(scaler.transform(train_set_x),columns=train_set_x.columns)\n",
    "test_set_x = pd.DataFrame(scaler.transform(test_set_x),columns=test_set_x.columns)"
   ]
  },
  {
   "cell_type": "code",
   "execution_count": 14,
   "metadata": {
    "hideCode": false,
    "hidePrompt": false
   },
   "outputs": [
    {
     "data": {
      "image/png": "[encoded data removed]",
      "text/plain": [
       "<matplotlib.figure.Figure at 0xbf362e8>"
      ]
     },
     "metadata": {},
     "output_type": "display_data"
    }
   ],
   "source": [
    "plt.figure(figsize=(14,6))\n",
    "train_set_x.boxplot()\n",
    "plt.show()"
   ]
  },
  {
   "cell_type": "code",
   "execution_count": 15,
   "metadata": {},
   "outputs": [
    {
     "data": {
      "text/plain": [
       "0    5360\n",
       "1    4384\n",
       "Name: eyeDetection, dtype: int64"
      ]
     },
     "execution_count": 15,
     "metadata": {},
     "output_type": "execute_result"
    }
   ],
   "source": [
    "train_set_y.value_counts()"
   ]
  },
  {
   "cell_type": "code",
   "execution_count": 16,
   "metadata": {},
   "outputs": [
    {
     "name": "stdout",
     "output_type": "stream",
     "text": [
      "0.550082101806\n"
     ]
    }
   ],
   "source": [
    "base_score = float(5360) / (5360+4384)\n",
    "print base_score"
   ]
  },
  {
   "cell_type": "markdown",
   "metadata": {},
   "source": [
    "# 2. Logistic regression"
   ]
  },
  {
   "cell_type": "code",
   "execution_count": 17,
   "metadata": {},
   "outputs": [
    {
     "name": "stdout",
     "output_type": "stream",
     "text": [
      "0.6364942528735632\n",
      "0.6405622489959839\n"
     ]
    }
   ],
   "source": [
    "#http://scikit-learn.org/stable/modules/generated/sklearn.linear_model.LogisticRegression.html\n",
    "from sklearn import linear_model\n",
    "#http://scikit-learn.org/stable/modules/classes.html#sklearn-metrics-metrics\n",
    "from sklearn import metrics\n",
    "\n",
    "clf_logistic = linear_model.LogisticRegression(C=1000000)\n",
    "clf_logistic.fit(train_set_x,train_set_y)\n",
    "\n",
    "train_predictions = clf_logistic.predict(train_set_x)\n",
    "test_predictions = clf_logistic.predict(test_set_x)\n",
    "\n",
    "print metrics.accuracy_score(train_predictions,train_set_y)\n",
    "print metrics.accuracy_score(test_predictions,test_set_y)"
   ]
  },
  {
   "cell_type": "code",
   "execution_count": 18,
   "metadata": {},
   "outputs": [
    {
     "data": {
      "image/png": "[encoded data removed]",
      "text/plain": [
       "<matplotlib.figure.Figure at 0x1053aef0>"
      ]
     },
     "metadata": {},
     "output_type": "display_data"
    }
   ],
   "source": [
    "tmp = pd.DataFrame()\n",
    "tmp[\"predictions\"] = test_predictions\n",
    "tmp[\"targets\"] = test_set_y\n",
    "\n",
    "tmp.hist(column=\"predictions\",by=\"targets\",sharey=True)\n",
    "plt.show()"
   ]
  },
  {
   "cell_type": "code",
   "execution_count": 19,
   "metadata": {},
   "outputs": [
    {
     "name": "stderr",
     "output_type": "stream",
     "text": [
      "c:\\users\\pitro11a\\anaconda2\\lib\\site-packages\\sklearn\\linear_model\\base.py:352: RuntimeWarning: overflow encountered in exp\n",
      "  np.exp(prob, prob)\n"
     ]
    },
    {
     "data": {
      "image/png": "[encoded data removed]",
      "text/plain": [
       "<matplotlib.figure.Figure at 0x1063c4e0>"
      ]
     },
     "metadata": {},
     "output_type": "display_data"
    }
   ],
   "source": [
    "test_predictions = clf_logistic.predict_proba(test_set_x)\n",
    "\n",
    "tmp = pd.DataFrame()\n",
    "tmp[\"predictions\"] = test_predictions[:,1]\n",
    "tmp[\"targets\"] = test_set_y\n",
    "\n",
    "tmp.hist(column=\"predictions\",by=\"targets\",sharey=True)\n",
    "plt.show()"
   ]
  },
  {
   "cell_type": "markdown",
   "metadata": {},
   "source": [
    "# 3. Model evaluation"
   ]
  },
  {
   "cell_type": "code",
   "execution_count": 20,
   "metadata": {},
   "outputs": [
    {
     "name": "stdout",
     "output_type": "stream",
     "text": [
      "[0.64391996 0.63981529 0.62955362 0.6331452  0.62679671]\n",
      "0.6346461566664523\n"
     ]
    }
   ],
   "source": [
    "from sklearn.model_selection import cross_val_score\n",
    "\n",
    "cv_scores = cross_val_score(clf_logistic,train_set_x,train_set_y,cv=5)\n",
    "print cv_scores\n",
    "print np.mean(cv_scores)"
   ]
  },
  {
   "cell_type": "code",
   "execution_count": 21,
   "metadata": {},
   "outputs": [
    {
     "name": "stdout",
     "output_type": "stream",
     "text": [
      "0.6346469622331691\n"
     ]
    }
   ],
   "source": [
    "from sklearn.model_selection import cross_val_predict\n",
    "from sklearn import metrics\n",
    "\n",
    "predicted = cross_val_predict(clf_logistic, train_set_x, train_set_y, cv=5)\n",
    "print metrics.accuracy_score(train_set_y, predicted) "
   ]
  },
  {
   "cell_type": "code",
   "execution_count": 22,
   "metadata": {},
   "outputs": [
    {
     "data": {
      "image/png": "[encoded data removed]",
      "text/plain": [
       "<matplotlib.figure.Figure at 0xb911160>"
      ]
     },
     "metadata": {},
     "output_type": "display_data"
    }
   ],
   "source": [
    "tmp = pd.DataFrame()\n",
    "tmp[\"predictions\"] = predicted\n",
    "tmp[\"targets\"] = train_set_y\n",
    "\n",
    "tmp.hist(column=\"predictions\",by=\"targets\",sharey=True)\n",
    "plt.show()"
   ]
  },
  {
   "cell_type": "code",
   "execution_count": 23,
   "metadata": {},
   "outputs": [
    {
     "name": "stdout",
     "output_type": "stream",
     "text": [
      "[[0.92630034 0.07369966]\n",
      " [0.52961681 0.47038319]\n",
      " [0.58477159 0.41522841]\n",
      " ...\n",
      " [0.73575449 0.26424551]\n",
      " [0.81712852 0.18287148]\n",
      " [0.23827252 0.76172748]]\n"
     ]
    }
   ],
   "source": [
    "predicted = cross_val_predict(clf_logistic, train_set_x, train_set_y, cv=5, method=\"predict_proba\")\n",
    "print predicted"
   ]
  },
  {
   "cell_type": "code",
   "execution_count": 24,
   "metadata": {},
   "outputs": [
    {
     "data": {
      "image/png": "[encoded data removed]",
      "text/plain": [
       "<matplotlib.figure.Figure at 0xc206198>"
      ]
     },
     "metadata": {},
     "output_type": "display_data"
    }
   ],
   "source": [
    "tmp = pd.DataFrame()\n",
    "tmp[\"predictions\"] = predicted[:,1]\n",
    "tmp[\"targets\"] = train_set_y\n",
    "\n",
    "tmp.hist(column=\"predictions\",by=\"targets\",sharey=True)\n",
    "plt.show()"
   ]
  },
  {
   "cell_type": "code",
   "execution_count": 25,
   "metadata": {},
   "outputs": [
    {
     "name": "stdout",
     "output_type": "stream",
     "text": [
      "0.6469984607491021\n",
      "0.6326321190354027\n",
      "0.6269881990764494\n",
      "0.6413545407901488\n",
      "0.6252566735112937\n"
     ]
    }
   ],
   "source": [
    "from sklearn.model_selection import KFold\n",
    "\n",
    "kf = KFold(n_splits=5)\n",
    "for train, test in kf.split(train_set_x):\n",
    "    clf_logistic.fit(train_set_x.iloc[train],train_set_y.iloc[train])\n",
    "    predicted = clf_logistic.predict(train_set_x.iloc[test])\n",
    "    print metrics.accuracy_score(train_set_y.iloc[test], predicted) "
   ]
  },
  {
   "cell_type": "code",
   "execution_count": 26,
   "metadata": {},
   "outputs": [],
   "source": [
    "from sklearn.metrics import roc_curve\n",
    "\n",
    "predicted = cross_val_predict(clf_logistic, train_set_x, train_set_y, cv=5, method=\"predict_proba\")\n",
    "\n",
    "fpr, tpr, thresholds = roc_curve(train_set_y,predicted[:,1])"
   ]
  },
  {
   "cell_type": "code",
   "execution_count": 27,
   "metadata": {},
   "outputs": [
    {
     "data": {
      "image/png": "[encoded data removed]",
      "text/plain": [
       "<matplotlib.figure.Figure at 0xbfdf588>"
      ]
     },
     "metadata": {},
     "output_type": "display_data"
    }
   ],
   "source": [
    "def plot_roc_curve(fpr, tpr, label=None):\n",
    "    plt.plot(fpr, tpr, linewidth=2, label=label)\n",
    "    plt.plot([0, 1], [0, 1], 'k--')\n",
    "    plt.axis([0, 1, 0, 1])\n",
    "    plt.xlabel('False Positive Rate', fontsize=16)\n",
    "    plt.ylabel('True Positive Rate', fontsize=16)\n",
    "\n",
    "plt.figure(figsize=(8, 6))\n",
    "plot_roc_curve(fpr, tpr)\n",
    "plt.show()"
   ]
  },
  {
   "cell_type": "code",
   "execution_count": 28,
   "metadata": {},
   "outputs": [
    {
     "name": "stdout",
     "output_type": "stream",
     "text": [
      "0.667847889884519\n"
     ]
    }
   ],
   "source": [
    "print metrics.auc(fpr, tpr)"
   ]
  },
  {
   "cell_type": "code",
   "execution_count": 29,
   "metadata": {},
   "outputs": [],
   "source": [
    "from sklearn.metrics import precision_recall_curve\n",
    "\n",
    "precisions, recalls, thresholds = precision_recall_curve(train_set_y,predicted[:,1])"
   ]
  },
  {
   "cell_type": "code",
   "execution_count": 30,
   "metadata": {},
   "outputs": [
    {
     "data": {
      "image/png": "[encoded data removed]",
      "text/plain": [
       "<matplotlib.figure.Figure at 0x106225c0>"
      ]
     },
     "metadata": {},
     "output_type": "display_data"
    }
   ],
   "source": [
    "def plot_precision_vs_recall(precisions, recalls):\n",
    "    plt.plot(recalls, precisions, \"b-\", linewidth=2)\n",
    "    plt.xlabel(\"Recall\", fontsize=16)\n",
    "    plt.ylabel(\"Precision\", fontsize=16)\n",
    "    plt.axis([0, 1, 0, 1])\n",
    "\n",
    "plt.figure(figsize=(8, 6))\n",
    "plot_precision_vs_recall(precisions, recalls)\n",
    "plt.show()"
   ]
  },
  {
   "cell_type": "code",
   "execution_count": 31,
   "metadata": {},
   "outputs": [
    {
     "name": "stdout",
     "output_type": "stream",
     "text": [
      "[[ 0.38299458 -0.49519696  0.13239299 -0.18776246  0.41745868 -0.5085599\n",
      "   0.02955731  0.06870353  0.04416482  0.08405475 -0.21811856  0.22760845\n",
      "  -0.04140054  0.03664326]]\n"
     ]
    }
   ],
   "source": [
    "clf_logistic.fit(train_set_x,train_set_y)\n",
    "print clf_logistic.coef_"
   ]
  },
  {
   "cell_type": "code",
   "execution_count": 32,
   "metadata": {},
   "outputs": [
    {
     "data": {
      "image/png": "[encoded data removed]",
      "text/plain": [
       "<matplotlib.figure.Figure at 0x10eedef0>"
      ]
     },
     "metadata": {},
     "output_type": "display_data"
    }
   ],
   "source": [
    "#Exercise: perform 5-fold cross-validation on the smaller train-set below and plot the ROC\n",
    "train_set_x_small = train_set_x.iloc[:200]\n",
    "train_set_y_small = train_set_y.iloc[:200]\n",
    "\n",
    "predicted_small = cross_val_predict(clf_logistic, train_set_x_small, train_set_y_small, cv=5, method=\"predict_proba\")\n",
    "\n",
    "fpr_small, tpr_small, thresholds = roc_curve(train_set_y_small,predicted_small[:,1])\n",
    "\n",
    "plt.figure(figsize=(8, 6))\n",
    "plot_roc_curve(fpr, tpr)\n",
    "plot_roc_curve(fpr_small, tpr_small)\n",
    "plt.show()"
   ]
  },
  {
   "cell_type": "code",
   "execution_count": 33,
   "metadata": {},
   "outputs": [
    {
     "data": {
      "image/png": "[encoded data removed]",
      "text/plain": [
       "<matplotlib.figure.Figure at 0xdc3c240>"
      ]
     },
     "metadata": {},
     "output_type": "display_data"
    }
   ],
   "source": [
    "#Exercise: fit a logistic regression model on the full and the small train-set \n",
    "#          and plot a ROC curve for the predictions on the test-set\n",
    "\n",
    "clf_logistic.fit(train_set_x,train_set_y)\n",
    "predicted = clf_logistic.predict_proba(test_set_x)\n",
    "fpr, tpr, thresholds = roc_curve(test_set_y,predicted[:,1])\n",
    "\n",
    "clf_logistic.fit(train_set_x_small,train_set_y_small)\n",
    "predicted_small = clf_logistic.predict_proba(test_set_x)\n",
    "fpr_small, tpr_small, thresholds = roc_curve(test_set_y,predicted_small[:,1])\n",
    "\n",
    "plt.figure(figsize=(8, 6))\n",
    "plot_roc_curve(fpr, tpr)\n",
    "plot_roc_curve(fpr_small, tpr_small)\n",
    "plt.show()"
   ]
  },
  {
   "cell_type": "markdown",
   "metadata": {},
   "source": [
    "# 4. Regularization"
   ]
  },
  {
   "cell_type": "code",
   "execution_count": 34,
   "metadata": {},
   "outputs": [
    {
     "name": "stdout",
     "output_type": "stream",
     "text": [
      "0.6350574712643678\n",
      "LogisticRegression(C=0.1, class_weight=None, dual=False, fit_intercept=True,\n",
      "          intercept_scaling=1, max_iter=100, multi_class='ovr', n_jobs=1,\n",
      "          penalty='l2', random_state=None, solver='liblinear', tol=0.0001,\n",
      "          verbose=0, warm_start=False)\n"
     ]
    }
   ],
   "source": [
    "from sklearn.model_selection import GridSearchCV\n",
    "\n",
    "params = {'C':[0.001,0.01,0.1,1,10]}\n",
    "\n",
    "GSCV = GridSearchCV(clf_logistic, params,cv=5)\n",
    "GSCV.fit(train_set_x,train_set_y)\n",
    "\n",
    "print GSCV.best_score_\n",
    "print GSCV.best_estimator_"
   ]
  },
  {
   "cell_type": "code",
   "execution_count": 35,
   "metadata": {},
   "outputs": [
    {
     "name": "stdout",
     "output_type": "stream",
     "text": [
      "0.6353653530377669\n",
      "LogisticRegression(C=0.1, class_weight=None, dual=False, fit_intercept=True,\n",
      "          intercept_scaling=1, max_iter=100, multi_class='ovr', n_jobs=1,\n",
      "          penalty='l1', random_state=None, solver='liblinear', tol=0.0001,\n",
      "          verbose=0, warm_start=False)\n"
     ]
    }
   ],
   "source": [
    "#Exercise: find the optimal value for C for a lgostic regression model with penalty='l1'\n",
    "\n",
    "clf_logistic_l1 = linear_model.LogisticRegression(penalty='l1')\n",
    "\n",
    "GSCV = GridSearchCV(clf_logistic_l1, params,cv=5)\n",
    "GSCV.fit(train_set_x,train_set_y)\n",
    "\n",
    "print GSCV.best_score_\n",
    "print GSCV.best_estimator_"
   ]
  },
  {
   "cell_type": "code",
   "execution_count": 36,
   "metadata": {},
   "outputs": [
    {
     "name": "stdout",
     "output_type": "stream",
     "text": [
      "[[ 0.37051903 -0.48073648  0.11959138 -0.16487404  0.38244149 -0.48095762\n",
      "   0.02933936  0.07037278  0.03362194  0.07124343 -0.19192249  0.21615464\n",
      "   0.          0.00838184]]\n"
     ]
    }
   ],
   "source": [
    "#Exercise: print the model-parameters for the best model obtained above\n",
    "print GSCV.best_estimator_.coef_"
   ]
  },
  {
   "cell_type": "code",
   "execution_count": 37,
   "metadata": {},
   "outputs": [
    {
     "name": "stdout",
     "output_type": "stream",
     "text": [
      "0.6657021333208121\n"
     ]
    }
   ],
   "source": [
    "#Exercise: how well does the best model perform on the test-set (compute AUC)?\n",
    "GSCV.best_estimator_.fit(train_set_x,train_set_y)\n",
    "predicted = GSCV.best_estimator_.predict_proba(test_set_x)\n",
    "fpr, tpr, thresholds = roc_curve(test_set_y,predicted[:,1])\n",
    "print metrics.auc(fpr, tpr)"
   ]
  },
  {
   "cell_type": "code",
   "execution_count": 60,
   "metadata": {},
   "outputs": [
    {
     "name": "stdout",
     "output_type": "stream",
     "text": [
      "[[ 0.19165572 -0.37292737  0.          0.          0.13938763 -0.26689948\n",
      "   0.0048416   0.04179607  0.          0.02915612  0.          0.20145322\n",
      "   0.          0.05446293]]\n"
     ]
    }
   ],
   "source": [
    "#Exercise: fit a logistic regression model withe peanlty='l1' and C=0.01\n",
    "#          and print the model parameters again.\n",
    "clf_logistic_l1 = linear_model.LogisticRegression(penalty='l1',C=0.01)\n",
    "clf_logistic_l1.fit(train_set_x, train_set_y)\n",
    "print clf_logistic_l1.coef_"
   ]
  },
  {
   "cell_type": "code",
   "execution_count": 61,
   "metadata": {},
   "outputs": [
    {
     "name": "stdout",
     "output_type": "stream",
     "text": [
      "0.6464623342880844\n"
     ]
    }
   ],
   "source": [
    "#Exercise: how wel does this model perform on the test-set (compute the AUC)?\n",
    "predicted = clf_logistic_l1.predict_proba(test_set_x)\n",
    "fpr, tpr, thresholds = roc_curve(test_set_y,predicted[:,1])\n",
    "print metrics.auc(fpr, tpr)"
   ]
  },
  {
   "cell_type": "markdown",
   "metadata": {},
   "source": [
    "# 5. Linear SVM"
   ]
  },
  {
   "cell_type": "code",
   "execution_count": 65,
   "metadata": {},
   "outputs": [
    {
     "name": "stdout",
     "output_type": "stream",
     "text": [
      "0.61\n",
      "SVC(C=0.001, cache_size=200, class_weight=None, coef0=0.0,\n",
      "  decision_function_shape=None, degree=3, gamma='auto', kernel='linear',\n",
      "  max_iter=-1, probability=False, random_state=None, shrinking=True,\n",
      "  tol=0.001, verbose=False)\n"
     ]
    }
   ],
   "source": [
    "#Exercise: find the best value for C on the small train-set\n",
    "\n",
    "#http://scikit-learn.org/stable/modules/generated/sklearn.svm.SVC.html\n",
    "from sklearn import svm\n",
    "\n",
    "clf_svm = svm.SVC(kernel='linear')\n",
    "\n",
    "params = {'C':[0.001,0.01,0.1,1,10,100]}\n",
    "GSCV = GridSearchCV(clf_svm, params,cv=5,n_jobs=4)\n",
    "\n",
    "train_set_x_small = train_set_x.iloc[:200]\n",
    "train_set_y_small = train_set_y.iloc[:200]\n",
    "\n",
    "GSCV.fit(train_set_x_small,train_set_y_small)\n",
    "\n",
    "print GSCV.best_score_\n",
    "print GSCV.best_estimator_"
   ]
  },
  {
   "cell_type": "code",
   "execution_count": 67,
   "metadata": {},
   "outputs": [
    {
     "name": "stdout",
     "output_type": "stream",
     "text": [
      "0.6070281124497992\n"
     ]
    }
   ],
   "source": [
    "#Exercise: what is the performance (accuracy) of the best model fitted on the full train-set on the test-set?\n",
    "GSCV.best_estimator_.fit(train_set_x,train_set_y)\n",
    "predicted = GSCV.best_estimator_.predict(test_set_x)\n",
    "print metrics.accuracy_score(predicted,test_set_y)"
   ]
  },
  {
   "cell_type": "code",
   "execution_count": 69,
   "metadata": {},
   "outputs": [
    {
     "name": "stdout",
     "output_type": "stream",
     "text": [
      "0.6513453251109963\n"
     ]
    }
   ],
   "source": [
    "#Exercise: what is the AUC performance on the test-set?\n",
    "predicted = GSCV.best_estimator_.decision_function(test_set_x)\n",
    "fpr, tpr, thresholds = roc_curve(test_set_y,predicted)\n",
    "print metrics.auc(fpr, tpr)"
   ]
  },
  {
   "cell_type": "markdown",
   "metadata": {},
   "source": [
    "# 6. Decision tree"
   ]
  },
  {
   "cell_type": "code",
   "execution_count": 70,
   "metadata": {},
   "outputs": [
    {
     "name": "stdout",
     "output_type": "stream",
     "text": [
      "0.8170155993431856\n",
      "DecisionTreeClassifier(class_weight=None, criterion='entropy', max_depth=None,\n",
      "            max_features=None, max_leaf_nodes=None,\n",
      "            min_impurity_split=1e-07, min_samples_leaf=1,\n",
      "            min_samples_split=10, min_weight_fraction_leaf=0.0,\n",
      "            presort=False, random_state=None, splitter='best')\n"
     ]
    }
   ],
   "source": [
    "#Exercise: optimze a Decision tree on the train-set\n",
    "\n",
    "#http://scikit-learn.org/stable/modules/generated/sklearn.tree.DecisionTreeClassifier.html\n",
    "from sklearn.tree import DecisionTreeClassifier\n",
    "\n",
    "clf_DT = DecisionTreeClassifier()\n",
    "\n",
    "params_DT = {'criterion':['gini','entropy'], 'min_samples_split':[10,100,1000]} \n",
    "\n",
    "GSCV = GridSearchCV(clf_DT, params_DT,cv=5)\n",
    "GSCV.fit(train_set_x,train_set_y)\n",
    "\n",
    "print GSCV.best_score_\n",
    "print GSCV.best_estimator_"
   ]
  },
  {
   "cell_type": "code",
   "execution_count": 71,
   "metadata": {},
   "outputs": [
    {
     "name": "stdout",
     "output_type": "stream",
     "text": [
      "0.8192771084337349\n"
     ]
    }
   ],
   "source": [
    "#Exercise: what is the performance (accuracy) of the best model fitted on the full train-set on the test-set?\n",
    "GSCV.best_estimator_.fit(train_set_x,train_set_y)\n",
    "predicted = GSCV.best_estimator_.predict(test_set_x)\n",
    "print metrics.accuracy_score(predicted,test_set_y)"
   ]
  },
  {
   "cell_type": "markdown",
   "metadata": {},
   "source": [
    "# 7. RBF SVM"
   ]
  },
  {
   "cell_type": "code",
   "execution_count": 72,
   "metadata": {},
   "outputs": [
    {
     "name": "stdout",
     "output_type": "stream",
     "text": [
      "0.735\n",
      "SVC(C=1, cache_size=200, class_weight=None, coef0=0.0,\n",
      "  decision_function_shape=None, degree=3, gamma=0.1, kernel='rbf',\n",
      "  max_iter=-1, probability=False, random_state=None, shrinking=True,\n",
      "  tol=0.001, verbose=False)\n",
      "0.9150602409638554\n",
      "0.9729379594413401\n"
     ]
    }
   ],
   "source": [
    "#Exercise: what is the performance (accuracy and AUC) of an optimized RBF SVM on the test set?\n",
    "#Tip: optimize on small train-set\n",
    "clf_svm = svm.SVC(kernel='rbf')\n",
    "\n",
    "params = {'C':[0.001,0.01,0.1,1,10,100],'gamma':[0.001,0.01,0.1,1,10,100]}\n",
    "\n",
    "train_set_x_small = train_set_x.iloc[:200]\n",
    "train_set_y_small = train_set_y.iloc[:200]\n",
    "\n",
    "GSCV = GridSearchCV(clf_svm, params,cv=5)\n",
    "GSCV.fit(train_set_x_small,train_set_y_small)\n",
    "\n",
    "print GSCV.best_score_\n",
    "print GSCV.best_estimator_\n",
    "\n",
    "GSCV.best_estimator_.fit(train_set_x,train_set_y)\n",
    "predicted = GSCV.best_estimator_.predict(test_set_x)\n",
    "print metrics.accuracy_score(predicted,test_set_y)\n",
    "\n",
    "predicted = GSCV.best_estimator_.decision_function(test_set_x)\n",
    "fpr, tpr, thresholds = roc_curve(test_set_y,predicted)\n",
    "print metrics.auc(fpr, tpr)"
   ]
  },
  {
   "cell_type": "code",
   "execution_count": 73,
   "metadata": {},
   "outputs": [
    {
     "data": {
      "image/png": "[encoded data removed]",
      "text/plain": [
       "<matplotlib.figure.Figure at 0xc18c320>"
      ]
     },
     "metadata": {},
     "output_type": "display_data"
    }
   ],
   "source": [
    "#Exercise: plot the ROC curve for the test-set\n",
    "plt.figure(figsize=(8, 6))\n",
    "plot_roc_curve(fpr, tpr)\n",
    "plt.show()"
   ]
  },
  {
   "cell_type": "markdown",
   "metadata": {},
   "source": [
    "# 8. Bagging"
   ]
  },
  {
   "cell_type": "code",
   "execution_count": 75,
   "metadata": {},
   "outputs": [
    {
     "name": "stdout",
     "output_type": "stream",
     "text": [
      "[0.64289379 0.63776296 0.63211904 0.6331452  0.62731006]\n",
      "0.6346462093444435\n"
     ]
    }
   ],
   "source": [
    "from sklearn.ensemble import BaggingClassifier\n",
    "\n",
    "clf_logistic_bagged = BaggingClassifier(clf_logistic,n_estimators=50,max_samples=0.7)\n",
    "scores = cross_val_score(clf_logistic_bagged, train_set_x, train_set_y, cv=5)\n",
    "print scores\n",
    "print np.mean(scores)"
   ]
  },
  {
   "cell_type": "code",
   "execution_count": 76,
   "metadata": {},
   "outputs": [
    {
     "name": "stdout",
     "output_type": "stream",
     "text": [
      "0.6371100164203612\n",
      "BaggingClassifier(base_estimator=LogisticRegression(C=1000000, class_weight=None, dual=False,\n",
      "          fit_intercept=True, intercept_scaling=1, max_iter=100,\n",
      "          multi_class='ovr', n_jobs=1, penalty='l2', random_state=None,\n",
      "          solver='liblinear', tol=0.0001, verbose=0, warm_start=False),\n",
      "         bootstrap=True, bootstrap_features=False, max_features=1.0,\n",
      "         max_samples=0.4, n_estimators=10, n_jobs=1, oob_score=False,\n",
      "         random_state=None, verbose=0, warm_start=False)\n"
     ]
    }
   ],
   "source": [
    "params_bagged = {'n_estimators':[10,30,50], 'max_samples':[0.4,0.6,0.8]} #make them increase max_depth\n",
    "\n",
    "GSCV = GridSearchCV(clf_logistic_bagged, params_bagged,cv=5)\n",
    "GSCV.fit(train_set_x,train_set_y)\n",
    "\n",
    "print GSCV.best_score_\n",
    "print GSCV.best_estimator_"
   ]
  },
  {
   "cell_type": "code",
   "execution_count": 77,
   "metadata": {},
   "outputs": [
    {
     "name": "stdout",
     "output_type": "stream",
     "text": [
      "[0.89533094 0.91174962 0.89173935 0.89533094 0.89168378]\n",
      "0.897166924964416\n"
     ]
    }
   ],
   "source": [
    "#Exercise: what is the effect of bagging on a Decision tree classifier?\n",
    "from sklearn.ensemble import BaggingClassifier\n",
    "\n",
    "clf_DT_bagged = BaggingClassifier(clf_DT,n_estimators=50,max_samples=0.7)\n",
    "scores = cross_val_score(clf_DT_bagged, train_set_x, train_set_y, cv=5)\n",
    "print scores\n",
    "print np.mean(scores)\n",
    "\n",
    "GSCV = GridSearchCV(clf_DT_bagged, params_bagged,cv=5)\n",
    "GSCV.fit(train_set_x,train_set_y)\n",
    "\n",
    "print GSCV.best_score_\n",
    "print GSCV.best_estimator_"
   ]
  },
  {
   "cell_type": "markdown",
   "metadata": {},
   "source": [
    "# 9. Random Forest"
   ]
  },
  {
   "cell_type": "code",
   "execution_count": 86,
   "metadata": {},
   "outputs": [
    {
     "name": "stdout",
     "output_type": "stream",
     "text": [
      "0.9068144499178982\n",
      "RandomForestClassifier(bootstrap=True, class_weight=None, criterion='gini',\n",
      "            max_depth=None, max_features=0.15467588749129085,\n",
      "            max_leaf_nodes=None, min_impurity_split=1e-07,\n",
      "            min_samples_leaf=1, min_samples_split=2,\n",
      "            min_weight_fraction_leaf=0.0, n_estimators=95, n_jobs=1,\n",
      "            oob_score=False, random_state=None, verbose=0,\n",
      "            warm_start=False)\n",
      "0.9108433734939759\n",
      "0.9674911013809979\n"
     ]
    }
   ],
   "source": [
    "#Exercise: what is the performance (accuracy and AUC) of an optimized Random Forest on the test set?\n",
    "#http://scikit-learn.org/stable/modules/generated/sklearn.ensemble.RandomForestClassifier.html\n",
    "from sklearn.ensemble import RandomForestClassifier\n",
    "from sklearn.model_selection import RandomizedSearchCV\n",
    "from scipy.stats import randint \n",
    "from scipy.stats import uniform \n",
    "\n",
    "clf_RF = RandomForestClassifier()\n",
    "\n",
    "params_dist_RF = {\n",
    "                \"max_features\": uniform(0.1,0.6),\n",
    "                \"min_samples_split\": randint(2, 100),\n",
    "                \"n_estimators\": randint(10, 100)\n",
    "                }\n",
    "\n",
    "n_iter_search = 50\n",
    "\n",
    "RSCV = RandomizedSearchCV(clf_RF, params_dist_RF,cv=5,n_jobs=-1,n_iter=n_iter_search)\n",
    "RSCV.fit(train_set_x,train_set_y)\n",
    "\n",
    "print RSCV.best_score_\n",
    "print RSCV.best_estimator_\n",
    "\n",
    "RSCV.best_estimator_.fit(train_set_x,train_set_y)\n",
    "predicted = RSCV.best_estimator_.predict(test_set_x)\n",
    "print metrics.accuracy_score(predicted,test_set_y)\n",
    "\n",
    "predicted = RSCV.best_estimator_.predict_proba(test_set_x)\n",
    "fpr, tpr, thresholds = roc_curve(test_set_y,predicted[:,1])\n",
    "print metrics.auc(fpr, tpr)"
   ]
  },
  {
   "cell_type": "code",
   "execution_count": 85,
   "metadata": {},
   "outputs": [
    {
     "name": "stdout",
     "output_type": "stream",
     "text": [
      "[0.07774306 0.09835868 0.05008203 0.05434324 0.04838262 0.11507947\n",
      " 0.13214353 0.05038586 0.0332003  0.05102164 0.05810368 0.06102239\n",
      " 0.0908887  0.0792448 ]\n"
     ]
    }
   ],
   "source": [
    "print RSCV.best_estimator_.feature_importances_"
   ]
  },
  {
   "cell_type": "markdown",
   "metadata": {},
   "source": [
    "# 10. Extreme Gradient Boosting"
   ]
  },
  {
   "cell_type": "code",
   "execution_count": 84,
   "metadata": {
    "hideCode": false,
    "hidePrompt": false
   },
   "outputs": [
    {
     "name": "stdout",
     "output_type": "stream",
     "text": [
      "0.8008004926108374\n",
      "XGBClassifier(base_score=0.5, colsample_bylevel=1, colsample_bytree=1,\n",
      "       gamma=5.581381105126626, learning_rate=0.21518661602506559,\n",
      "       max_delta_step=0, max_depth=6, min_child_weight=1, missing=None,\n",
      "       n_estimators=122, nthread=-1, objective='binary:logistic',\n",
      "       reg_alpha=4.807112805117939, reg_lambda=15.01875732520584,\n",
      "       scale_pos_weight=12.9111755330391, seed=0, silent=True, subsample=1)\n",
      "0.8110441767068273\n",
      "0.9629516318156444\n"
     ]
    },
    {
     "name": "stderr",
     "output_type": "stream",
     "text": [
      "c:\\users\\pitro11a\\anaconda2\\lib\\site-packages\\sklearn\\preprocessing\\label.py:171: DeprecationWarning: The truth value of an empty array is ambiguous. Returning False, but in future this will result in an error. Use `array.size > 0` to check that an array is not empty.\n",
      "  if diff:\n"
     ]
    }
   ],
   "source": [
    "#conda install py-xgboost\n",
    "#Exercise: what is the performance (accuracy and AUC) of an optimized XGBoost on the test set?\n",
    "from xgboost import XGBClassifier \n",
    "\n",
    "clf_xgb = XGBClassifier() \n",
    " \n",
    "param_dist = {\"n_estimators\"     : randint(10,200), \n",
    "              \"max_depth\"        : randint(3,7), \n",
    "              \"learning_rate\"    : uniform(0.01,0.25), \n",
    "              \"gamma\"            : uniform(0.0,25.0), \n",
    "              \"reg_lambda\"       : uniform(0.0,25.0)\n",
    "             } \n",
    " \n",
    "n_iter_search = 50\n",
    " \n",
    "RSCV = RandomizedSearchCV(clf_xgb, param_distributions=param_dist, \n",
    "                                   n_iter=n_iter_search,verbose=0,\n",
    "                                   n_jobs=-1,cv=5) \n",
    " \n",
    "RSCV.fit(train_set_x, train_set_y) \n",
    " \n",
    "print RSCV.best_score_\n",
    "print RSCV.best_estimator_\n",
    "\n",
    "RSCV.best_estimator_.fit(train_set_x,train_set_y)\n",
    "predicted = RSCV.best_estimator_.predict(test_set_x)\n",
    "print metrics.accuracy_score(predicted,test_set_y)\n",
    "\n",
    "predicted = RSCV.best_estimator_.predict_proba(test_set_x)\n",
    "fpr, tpr, thresholds = roc_curve(test_set_y,predicted[:,1])\n",
    "print metrics.auc(fpr, tpr)"
   ]
  },
  {
   "cell_type": "code",
   "execution_count": null,
   "metadata": {},
   "outputs": [],
   "source": []
  }
 ],
 "metadata": {
  "hide_code_all_hidden": false,
  "kernelspec": {
   "display_name": "Python 2",
   "language": "python",
   "name": "python2"
  },
  "language_info": {
   "codemirror_mode": {
    "name": "ipython",
    "version": 2
   },
   "file_extension": ".py",
   "mimetype": "text/x-python",
   "name": "python",
   "nbconvert_exporter": "python",
   "pygments_lexer": "ipython2",
   "version": "2.7.13"
  }
 },
 "nbformat": 4,
 "nbformat_minor": 2
}
