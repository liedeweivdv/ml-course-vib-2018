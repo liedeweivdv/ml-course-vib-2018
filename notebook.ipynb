{
 "cells": [
  {
   "cell_type": "code",
   "execution_count": 53,
   "metadata": {
    "hideCode": false,
    "hidePrompt": false
   },
   "outputs": [],
   "source": [
    "%matplotlib inline\n",
    "\n",
    "import matplotlib.pyplot as plt\n",
    "import numpy as np\n",
    "import pandas as pd"
   ]
  },
  {
   "cell_type": "code",
   "execution_count": 54,
   "metadata": {
    "hideCode": false,
    "hidePrompt": false
   },
   "outputs": [],
   "source": [
    "train_data = pd.read_csv(\"train.csv\")\n",
    "test_data = pd.read_csv(\"test.csv\")\n",
    "train_data = train_data.sample(5000)"
   ]
  },
  {
   "cell_type": "code",
   "execution_count": 55,
   "metadata": {
    "hideCode": false,
    "hidePrompt": false
   },
   "outputs": [
    {
     "name": "stdout",
     "output_type": "stream",
     "text": [
      "(5000, 15)\n",
      "(4980, 15)\n"
     ]
    }
   ],
   "source": [
    "print train_data.shape\n",
    "print test_data.shape"
   ]
  },
  {
   "cell_type": "code",
   "execution_count": 56,
   "metadata": {
    "hideCode": false,
    "hidePrompt": false
   },
   "outputs": [
    {
     "data": {
      "text/html": [
       "<div>\n",
       "<table border=\"1\" class=\"dataframe\">\n",
       "  <thead>\n",
       "    <tr style=\"text-align: right;\">\n",
       "      <th></th>\n",
       "      <th>AF3</th>\n",
       "      <th>F7</th>\n",
       "      <th>F3</th>\n",
       "      <th>FC5</th>\n",
       "      <th>T7</th>\n",
       "      <th>P7</th>\n",
       "      <th>O1</th>\n",
       "      <th>02</th>\n",
       "      <th>P8</th>\n",
       "      <th>T8</th>\n",
       "      <th>FC6</th>\n",
       "      <th>F4</th>\n",
       "      <th>F8</th>\n",
       "      <th>AF4</th>\n",
       "      <th>eyeDetection</th>\n",
       "    </tr>\n",
       "  </thead>\n",
       "  <tbody>\n",
       "    <tr>\n",
       "      <th>count</th>\n",
       "      <td>5000.000000</td>\n",
       "      <td>5000.000000</td>\n",
       "      <td>5000.000000</td>\n",
       "      <td>5000.000000</td>\n",
       "      <td>5000.000000</td>\n",
       "      <td>5000.000000</td>\n",
       "      <td>5000.000000</td>\n",
       "      <td>5000.000000</td>\n",
       "      <td>5000.000000</td>\n",
       "      <td>5000.000000</td>\n",
       "      <td>5000.000000</td>\n",
       "      <td>5000.000000</td>\n",
       "      <td>5000.000000</td>\n",
       "      <td>5000.000000</td>\n",
       "      <td>5000.000000</td>\n",
       "    </tr>\n",
       "    <tr>\n",
       "      <th>mean</th>\n",
       "      <td>4301.562770</td>\n",
       "      <td>4009.904120</td>\n",
       "      <td>4264.004894</td>\n",
       "      <td>4122.569310</td>\n",
       "      <td>4341.532618</td>\n",
       "      <td>4619.825944</td>\n",
       "      <td>4072.772002</td>\n",
       "      <td>4615.729330</td>\n",
       "      <td>4201.113086</td>\n",
       "      <td>4231.148980</td>\n",
       "      <td>4202.124020</td>\n",
       "      <td>4279.041890</td>\n",
       "      <td>4606.129616</td>\n",
       "      <td>4361.472402</td>\n",
       "      <td>0.450600</td>\n",
       "    </tr>\n",
       "    <tr>\n",
       "      <th>std</th>\n",
       "      <td>38.349597</td>\n",
       "      <td>30.663741</td>\n",
       "      <td>21.262655</td>\n",
       "      <td>21.023585</td>\n",
       "      <td>17.050245</td>\n",
       "      <td>18.705047</td>\n",
       "      <td>20.803048</td>\n",
       "      <td>18.542496</td>\n",
       "      <td>18.058758</td>\n",
       "      <td>19.876933</td>\n",
       "      <td>24.737568</td>\n",
       "      <td>20.331748</td>\n",
       "      <td>33.860217</td>\n",
       "      <td>39.175503</td>\n",
       "      <td>0.497603</td>\n",
       "    </tr>\n",
       "    <tr>\n",
       "      <th>min</th>\n",
       "      <td>4197.950000</td>\n",
       "      <td>3906.150000</td>\n",
       "      <td>4201.030000</td>\n",
       "      <td>4058.460000</td>\n",
       "      <td>4304.620000</td>\n",
       "      <td>4566.150000</td>\n",
       "      <td>4027.180000</td>\n",
       "      <td>4567.690000</td>\n",
       "      <td>4153.850000</td>\n",
       "      <td>4152.820000</td>\n",
       "      <td>4103.590000</td>\n",
       "      <td>4201.030000</td>\n",
       "      <td>4447.180000</td>\n",
       "      <td>4212.310000</td>\n",
       "      <td>0.000000</td>\n",
       "    </tr>\n",
       "    <tr>\n",
       "      <th>25%</th>\n",
       "      <td>4280.510000</td>\n",
       "      <td>3990.770000</td>\n",
       "      <td>4250.770000</td>\n",
       "      <td>4108.210000</td>\n",
       "      <td>4331.790000</td>\n",
       "      <td>4611.280000</td>\n",
       "      <td>4058.460000</td>\n",
       "      <td>4604.620000</td>\n",
       "      <td>4190.260000</td>\n",
       "      <td>4220.510000</td>\n",
       "      <td>4189.740000</td>\n",
       "      <td>4267.690000</td>\n",
       "      <td>4590.770000</td>\n",
       "      <td>4341.540000</td>\n",
       "      <td>0.000000</td>\n",
       "    </tr>\n",
       "    <tr>\n",
       "      <th>50%</th>\n",
       "      <td>4294.360000</td>\n",
       "      <td>4005.640000</td>\n",
       "      <td>4262.560000</td>\n",
       "      <td>4120.510000</td>\n",
       "      <td>4338.970000</td>\n",
       "      <td>4617.440000</td>\n",
       "      <td>4070.260000</td>\n",
       "      <td>4613.330000</td>\n",
       "      <td>4199.490000</td>\n",
       "      <td>4229.230000</td>\n",
       "      <td>4200.510000</td>\n",
       "      <td>4276.920000</td>\n",
       "      <td>4603.080000</td>\n",
       "      <td>4354.870000</td>\n",
       "      <td>0.000000</td>\n",
       "    </tr>\n",
       "    <tr>\n",
       "      <th>75%</th>\n",
       "      <td>4311.280000</td>\n",
       "      <td>4023.590000</td>\n",
       "      <td>4270.260000</td>\n",
       "      <td>4132.310000</td>\n",
       "      <td>4346.670000</td>\n",
       "      <td>4626.150000</td>\n",
       "      <td>4083.590000</td>\n",
       "      <td>4624.100000</td>\n",
       "      <td>4209.230000</td>\n",
       "      <td>4239.490000</td>\n",
       "      <td>4211.280000</td>\n",
       "      <td>4287.180000</td>\n",
       "      <td>4617.440000</td>\n",
       "      <td>4372.310000</td>\n",
       "      <td>1.000000</td>\n",
       "    </tr>\n",
       "    <tr>\n",
       "      <th>max</th>\n",
       "      <td>4504.100000</td>\n",
       "      <td>4156.920000</td>\n",
       "      <td>4386.150000</td>\n",
       "      <td>4242.050000</td>\n",
       "      <td>4463.590000</td>\n",
       "      <td>4751.790000</td>\n",
       "      <td>4178.460000</td>\n",
       "      <td>4731.790000</td>\n",
       "      <td>4318.970000</td>\n",
       "      <td>4362.560000</td>\n",
       "      <td>4332.310000</td>\n",
       "      <td>4397.950000</td>\n",
       "      <td>4814.360000</td>\n",
       "      <td>4566.150000</td>\n",
       "      <td>1.000000</td>\n",
       "    </tr>\n",
       "  </tbody>\n",
       "</table>\n",
       "</div>"
      ],
      "text/plain": [
       "               AF3           F7           F3          FC5           T7  \\\n",
       "count  5000.000000  5000.000000  5000.000000  5000.000000  5000.000000   \n",
       "mean   4301.562770  4009.904120  4264.004894  4122.569310  4341.532618   \n",
       "std      38.349597    30.663741    21.262655    21.023585    17.050245   \n",
       "min    4197.950000  3906.150000  4201.030000  4058.460000  4304.620000   \n",
       "25%    4280.510000  3990.770000  4250.770000  4108.210000  4331.790000   \n",
       "50%    4294.360000  4005.640000  4262.560000  4120.510000  4338.970000   \n",
       "75%    4311.280000  4023.590000  4270.260000  4132.310000  4346.670000   \n",
       "max    4504.100000  4156.920000  4386.150000  4242.050000  4463.590000   \n",
       "\n",
       "                P7           O1           02           P8           T8  \\\n",
       "count  5000.000000  5000.000000  5000.000000  5000.000000  5000.000000   \n",
       "mean   4619.825944  4072.772002  4615.729330  4201.113086  4231.148980   \n",
       "std      18.705047    20.803048    18.542496    18.058758    19.876933   \n",
       "min    4566.150000  4027.180000  4567.690000  4153.850000  4152.820000   \n",
       "25%    4611.280000  4058.460000  4604.620000  4190.260000  4220.510000   \n",
       "50%    4617.440000  4070.260000  4613.330000  4199.490000  4229.230000   \n",
       "75%    4626.150000  4083.590000  4624.100000  4209.230000  4239.490000   \n",
       "max    4751.790000  4178.460000  4731.790000  4318.970000  4362.560000   \n",
       "\n",
       "               FC6           F4           F8          AF4  eyeDetection  \n",
       "count  5000.000000  5000.000000  5000.000000  5000.000000   5000.000000  \n",
       "mean   4202.124020  4279.041890  4606.129616  4361.472402      0.450600  \n",
       "std      24.737568    20.331748    33.860217    39.175503      0.497603  \n",
       "min    4103.590000  4201.030000  4447.180000  4212.310000      0.000000  \n",
       "25%    4189.740000  4267.690000  4590.770000  4341.540000      0.000000  \n",
       "50%    4200.510000  4276.920000  4603.080000  4354.870000      0.000000  \n",
       "75%    4211.280000  4287.180000  4617.440000  4372.310000      1.000000  \n",
       "max    4332.310000  4397.950000  4814.360000  4566.150000      1.000000  "
      ]
     },
     "execution_count": 56,
     "metadata": {},
     "output_type": "execute_result"
    }
   ],
   "source": [
    "train_data.describe()"
   ]
  },
  {
   "cell_type": "code",
   "execution_count": 57,
   "metadata": {},
   "outputs": [
    {
     "data": {
      "image/png": "[encoded data removed]",
      "text/plain": [
       "<matplotlib.figure.Figure at 0xbc96c18>"
      ]
     },
     "metadata": {},
     "output_type": "display_data"
    }
   ],
   "source": [
    "plt.figure(figsize=(14,6))\n",
    "train_data.boxplot()\n",
    "plt.show()"
   ]
  },
  {
   "cell_type": "code",
   "execution_count": 58,
   "metadata": {
    "hideCode": false,
    "hidePrompt": false
   },
   "outputs": [],
   "source": [
    "from sklearn import preprocessing\n",
    "\n",
    "scaler = preprocessing.StandardScaler()\n",
    "tmp = pd.DataFrame(scaler.fit_transform(train_data),columns=train_data.columns)"
   ]
  },
  {
   "cell_type": "code",
   "execution_count": 59,
   "metadata": {
    "hideCode": false,
    "hidePrompt": false
   },
   "outputs": [
    {
     "data": {
      "image/png": "[encoded data removed]",
      "text/plain": [
       "<matplotlib.figure.Figure at 0xf7ef518>"
      ]
     },
     "metadata": {},
     "output_type": "display_data"
    }
   ],
   "source": [
    "plt.figure(figsize=(14,6))\n",
    "tmp.boxplot()\n",
    "plt.show()"
   ]
  },
  {
   "cell_type": "code",
   "execution_count": 60,
   "metadata": {
    "hideCode": false,
    "hidePrompt": false
   },
   "outputs": [],
   "source": [
    "tmp2 = tmp.pop('eyeDetection')"
   ]
  },
  {
   "cell_type": "code",
   "execution_count": 61,
   "metadata": {
    "hideCode": false,
    "hidePrompt": false
   },
   "outputs": [],
   "source": [
    "from scipy import stats\n",
    "\n",
    "train_data = train_data[(np.abs(stats.zscore(train_data)) < 3).all(axis=1)]\n",
    "#cannot do this on test-data"
   ]
  },
  {
   "cell_type": "code",
   "execution_count": 62,
   "metadata": {
    "hideCode": false,
    "hidePrompt": false
   },
   "outputs": [],
   "source": [
    "train_set_x = train_data\n",
    "train_set_y = train_set_x.pop(\"eyeDetection\")\n",
    "test_set_x = test_data\n",
    "test_set_y = test_set_x.pop(\"eyeDetection\")"
   ]
  },
  {
   "cell_type": "code",
   "execution_count": 63,
   "metadata": {},
   "outputs": [],
   "source": [
    "scaler = preprocessing.StandardScaler()\n",
    "\n",
    "scaler.fit(train_set_x)\n",
    "train_set_x = pd.DataFrame(scaler.transform(train_set_x),columns=train_set_x.columns)\n",
    "test_set_x = pd.DataFrame(scaler.transform(test_set_x),columns=test_set_x.columns)"
   ]
  },
  {
   "cell_type": "code",
   "execution_count": 64,
   "metadata": {
    "hideCode": false,
    "hidePrompt": false
   },
   "outputs": [
    {
     "data": {
      "image/png": "[encoded data removed]",
      "text/plain": [
       "<matplotlib.figure.Figure at 0xe0c4400>"
      ]
     },
     "metadata": {},
     "output_type": "display_data"
    }
   ],
   "source": [
    "plt.figure(figsize=(14,6))\n",
    "train_set_x.boxplot()\n",
    "plt.show()"
   ]
  },
  {
   "cell_type": "code",
   "execution_count": 65,
   "metadata": {},
   "outputs": [
    {
     "name": "stdout",
     "output_type": "stream",
     "text": [
      "0.6316469321851453\n",
      "0.6273092369477912\n"
     ]
    }
   ],
   "source": [
    "from sklearn import linear_model\n",
    "\n",
    "clf_logistic = linear_model.LogisticRegression()\n",
    "clf_logistic.fit(train_set_x,train_set_y)\n",
    "\n",
    "print clf_logistic.score(train_set_x,train_set_y)\n",
    "print clf_logistic.score(test_set_x,test_set_y)"
   ]
  },
  {
   "cell_type": "code",
   "execution_count": 66,
   "metadata": {},
   "outputs": [
    {
     "name": "stdout",
     "output_type": "stream",
     "text": [
      "[0.62755651 0.63616792 0.63293864 0.60172228 0.63078579]\n",
      "0.6258342303552207\n"
     ]
    }
   ],
   "source": [
    "from sklearn.model_selection import cross_val_score\n",
    "\n",
    "cv_scores = cross_val_score(clf_logistic,train_set_x,train_set_y,cv=5)\n",
    "print cv_scores\n",
    "print np.mean(cv_scores)"
   ]
  },
  {
   "cell_type": "code",
   "execution_count": 67,
   "metadata": {},
   "outputs": [
    {
     "name": "stdout",
     "output_type": "stream",
     "text": [
      "0.626264800861141\n",
      "LogisticRegression(C=100, class_weight=None, dual=False, fit_intercept=True,\n",
      "          intercept_scaling=1, max_iter=100, multi_class='ovr', n_jobs=1,\n",
      "          penalty='l2', random_state=None, solver='liblinear', tol=0.0001,\n",
      "          verbose=0, warm_start=False)\n"
     ]
    }
   ],
   "source": [
    "from sklearn.model_selection import GridSearchCV\n",
    "\n",
    "params = {'C':[0.001,0.01,0.1,1,10,100]}\n",
    "\n",
    "GSCV = GridSearchCV(clf_logistic, params,cv=5)\n",
    "GSCV.fit(train_set_x,train_set_y)\n",
    "\n",
    "print GSCV.best_score_\n",
    "print GSCV.best_estimator_"
   ]
  },
  {
   "cell_type": "code",
   "execution_count": 68,
   "metadata": {},
   "outputs": [
    {
     "name": "stdout",
     "output_type": "stream",
     "text": [
      "[0.64155005 0.65662002 0.67276642 0.64370291 0.65231432]\n",
      "0.6533907427341228\n"
     ]
    }
   ],
   "source": [
    "from sklearn import svm\n",
    "\n",
    "clf_svm = svm.SVC(kernel='linear')\n",
    "scores = cross_val_score(clf_svm, train_set_x, train_set_y, cv=5)\n",
    "print scores\n",
    "print np.mean(scores)"
   ]
  },
  {
   "cell_type": "code",
   "execution_count": 69,
   "metadata": {},
   "outputs": [
    {
     "name": "stdout",
     "output_type": "stream",
     "text": [
      "0.6544671689989235\n",
      "SVC(C=0.1, cache_size=200, class_weight=None, coef0=0.0,\n",
      "  decision_function_shape=None, degree=3, gamma='auto', kernel='linear',\n",
      "  max_iter=-1, probability=False, random_state=None, shrinking=True,\n",
      "  tol=0.001, verbose=False)\n"
     ]
    }
   ],
   "source": [
    "params = {'C':[0.001,0.01,0.1,1,10,100]}\n",
    "\n",
    "GSCV = GridSearchCV(clf_svm, params,cv=5)\n",
    "GSCV.fit(train_set_x,train_set_y)\n",
    "\n",
    "print GSCV.best_score_\n",
    "print GSCV.best_estimator_"
   ]
  },
  {
   "cell_type": "code",
   "execution_count": 70,
   "metadata": {},
   "outputs": [
    {
     "name": "stdout",
     "output_type": "stream",
     "text": [
      "[0.78256189 0.77287406 0.75995694 0.76856835 0.80301399]\n",
      "0.777395048439182\n"
     ]
    }
   ],
   "source": [
    "from sklearn.tree import DecisionTreeClassifier\n",
    "\n",
    "clf_DT = DecisionTreeClassifier()\n",
    "scores = cross_val_score(clf_DT, train_set_x, train_set_y, cv=5)\n",
    "print scores\n",
    "print np.mean(scores)"
   ]
  },
  {
   "cell_type": "code",
   "execution_count": 71,
   "metadata": {},
   "outputs": [
    {
     "name": "stdout",
     "output_type": "stream",
     "text": [
      "0.7756727664155005\n",
      "DecisionTreeClassifier(class_weight=None, criterion='gini', max_depth=None,\n",
      "            max_features=None, max_leaf_nodes=None,\n",
      "            min_impurity_split=1e-07, min_samples_leaf=1,\n",
      "            min_samples_split=10, min_weight_fraction_leaf=0.0,\n",
      "            presort=False, random_state=None, splitter='best')\n"
     ]
    }
   ],
   "source": [
    "#params_DT = {'criterion':['gini','entropy'], 'max_depth':[3,6,9,12]} #make them increase max_depth\n",
    "params_DT = {'criterion':['gini','entropy'], 'min_samples_split':[10,100,1000]} #make them increase max_depth\n",
    "\n",
    "\n",
    "GSCV = GridSearchCV(clf_DT, params_DT,cv=5)\n",
    "GSCV.fit(train_set_x,train_set_y)\n",
    "\n",
    "print GSCV.best_score_\n",
    "print GSCV.best_estimator_"
   ]
  },
  {
   "cell_type": "code",
   "execution_count": 72,
   "metadata": {},
   "outputs": [
    {
     "name": "stdout",
     "output_type": "stream",
     "text": [
      "0.7708835341365462\n"
     ]
    }
   ],
   "source": [
    "print GSCV.best_estimator_.score(test_set_x,test_set_y)"
   ]
  },
  {
   "cell_type": "code",
   "execution_count": 73,
   "metadata": {},
   "outputs": [
    {
     "name": "stdout",
     "output_type": "stream",
     "text": [
      "[0.82454252 0.83530678 0.84284177 0.83745963 0.83853606]\n",
      "0.8357373519913885\n"
     ]
    }
   ],
   "source": [
    "from sklearn.ensemble import BaggingClassifier\n",
    "\n",
    "clf_DT_bagged = BaggingClassifier(clf_DT,n_estimators=10,max_samples=0.7)\n",
    "scores = cross_val_score(clf_DT_bagged, train_set_x, train_set_y, cv=5)\n",
    "print scores\n",
    "print np.mean(scores)"
   ]
  },
  {
   "cell_type": "code",
   "execution_count": 74,
   "metadata": {},
   "outputs": [
    {
     "name": "stdout",
     "output_type": "stream",
     "text": [
      "0.8607104413347686\n",
      "BaggingClassifier(base_estimator=DecisionTreeClassifier(class_weight=None, criterion='gini', max_depth=None,\n",
      "            max_features=None, max_leaf_nodes=None,\n",
      "            min_impurity_split=1e-07, min_samples_leaf=1,\n",
      "            min_samples_split=2, min_weight_fraction_leaf=0.0,\n",
      "            presort=False, random_state=None, splitter='best'),\n",
      "         bootstrap=True, bootstrap_features=False, max_features=1.0,\n",
      "         max_samples=0.8, n_estimators=20, n_jobs=1, oob_score=False,\n",
      "         random_state=None, verbose=0, warm_start=False)\n"
     ]
    }
   ],
   "source": [
    "params_DT_bagged = {'n_estimators':[10,20], 'max_samples':[0.4,0.6,0.8]} #make them increase max_depth\n",
    "\n",
    "GSCV = GridSearchCV(clf_DT_bagged, params_DT_bagged,cv=5)\n",
    "GSCV.fit(train_set_x,train_set_y)\n",
    "\n",
    "print GSCV.best_score_\n",
    "print GSCV.best_estimator_"
   ]
  },
  {
   "cell_type": "code",
   "execution_count": 75,
   "metadata": {},
   "outputs": [
    {
     "name": "stdout",
     "output_type": "stream",
     "text": [
      "[0.86437029 0.83315393 0.8525296  0.84714747 0.82669537]\n",
      "0.8447793326157157\n"
     ]
    }
   ],
   "source": [
    "from sklearn.ensemble import RandomForestClassifier\n",
    "\n",
    "clf_RF = RandomForestClassifier()\n",
    "scores = cross_val_score(clf_RF, train_set_x, train_set_y, cv=5)\n",
    "print scores\n",
    "print np.mean(scores)"
   ]
  },
  {
   "cell_type": "code",
   "execution_count": 76,
   "metadata": {},
   "outputs": [
    {
     "name": "stdout",
     "output_type": "stream",
     "text": [
      "0.8632938643702907\n",
      "RandomForestClassifier(bootstrap=True, class_weight=None, criterion='gini',\n",
      "            max_depth=None, max_features=0.6, max_leaf_nodes=None,\n",
      "            min_impurity_split=1e-07, min_samples_leaf=1,\n",
      "            min_samples_split=10, min_weight_fraction_leaf=0.0,\n",
      "            n_estimators=20, n_jobs=1, oob_score=False, random_state=None,\n",
      "            verbose=0, warm_start=False)\n"
     ]
    }
   ],
   "source": [
    "params_RF = {'min_samples_split':[10,100,1000],\n",
    "             'n_estimators':[10,20], 'max_features':[0.1,0.3,0.6]}\n",
    "\n",
    "GSCV = GridSearchCV(clf_RF, params_RF,cv=5,n_jobs=-1)\n",
    "GSCV.fit(train_set_x,train_set_y)\n",
    "\n",
    "print GSCV.best_score_\n",
    "print GSCV.best_estimator_"
   ]
  },
  {
   "cell_type": "code",
   "execution_count": 77,
   "metadata": {},
   "outputs": [
    {
     "name": "stdout",
     "output_type": "stream",
     "text": [
      "0.8856835306781485\n",
      "RandomForestClassifier(bootstrap=True, class_weight=None, criterion='gini',\n",
      "            max_depth=None, max_features=0.48003575028042356,\n",
      "            max_leaf_nodes=None, min_impurity_split=1e-07,\n",
      "            min_samples_leaf=1, min_samples_split=2,\n",
      "            min_weight_fraction_leaf=0.0, n_estimators=54, n_jobs=1,\n",
      "            oob_score=False, random_state=None, verbose=0,\n",
      "            warm_start=False)\n"
     ]
    }
   ],
   "source": [
    "from sklearn.model_selection import RandomizedSearchCV\n",
    "from scipy import stats\n",
    "\n",
    "params_dist_RF = {\"max_features\": stats.uniform(0.1,0.6),\n",
    "                 \"min_samples_split\": stats.randint(2, 11),\n",
    "                 \"n_estimators\": stats.randint(10, 100)}\n",
    "\n",
    "RSCV = RandomizedSearchCV(clf_RF, params_dist_RF,cv=5,n_jobs=-1,n_iter=10)\n",
    "RSCV.fit(train_set_x,train_set_y)\n",
    "\n",
    "print RSCV.best_score_\n",
    "print RSCV.best_estimator_"
   ]
  },
  {
   "cell_type": "code",
   "execution_count": 78,
   "metadata": {
    "hideCode": false,
    "hidePrompt": false
   },
   "outputs": [
    {
     "ename": "NameError",
     "evalue": "name 'logistic' is not defined",
     "output_type": "error",
     "traceback": [
      "\u001b[0;31m---------------------------------------------------------------------------\u001b[0m",
      "\u001b[0;31mNameError\u001b[0m                                 Traceback (most recent call last)",
      "\u001b[0;32m<ipython-input-78-0d03626a4a49>\u001b[0m in \u001b[0;36m<module>\u001b[0;34m()\u001b[0m\n\u001b[1;32m      6\u001b[0m \u001b[1;33m\u001b[0m\u001b[0m\n\u001b[1;32m      7\u001b[0m \u001b[0mpca\u001b[0m \u001b[1;33m=\u001b[0m \u001b[0mdecomposition\u001b[0m\u001b[1;33m.\u001b[0m\u001b[0mPCA\u001b[0m\u001b[1;33m(\u001b[0m\u001b[1;33m)\u001b[0m\u001b[1;33m\u001b[0m\u001b[0m\n\u001b[0;32m----> 8\u001b[0;31m \u001b[0mpipe\u001b[0m \u001b[1;33m=\u001b[0m \u001b[0mPipeline\u001b[0m\u001b[1;33m(\u001b[0m\u001b[0msteps\u001b[0m\u001b[1;33m=\u001b[0m\u001b[1;33m[\u001b[0m\u001b[1;33m(\u001b[0m\u001b[1;34m'pca'\u001b[0m\u001b[1;33m,\u001b[0m \u001b[0mpca\u001b[0m\u001b[1;33m)\u001b[0m\u001b[1;33m,\u001b[0m \u001b[1;33m(\u001b[0m\u001b[1;34m'logistic'\u001b[0m\u001b[1;33m,\u001b[0m \u001b[0mlogistic\u001b[0m\u001b[1;33m)\u001b[0m\u001b[1;33m]\u001b[0m\u001b[1;33m)\u001b[0m\u001b[1;33m\u001b[0m\u001b[0m\n\u001b[0m\u001b[1;32m      9\u001b[0m \u001b[1;33m\u001b[0m\u001b[0m\n\u001b[1;32m     10\u001b[0m \u001b[0mX_digits\u001b[0m \u001b[1;33m=\u001b[0m \u001b[0mtrain_set_x\u001b[0m\u001b[1;33m\u001b[0m\u001b[0m\n",
      "\u001b[0;31mNameError\u001b[0m: name 'logistic' is not defined"
     ]
    }
   ],
   "source": [
    "from sklearn import linear_model, decomposition, datasets\n",
    "from sklearn.pipeline import Pipeline\n",
    "from sklearn.model_selection import GridSearchCV\n",
    "\n",
    "\n",
    "\n",
    "pca = decomposition.PCA()\n",
    "pipe = Pipeline(steps=[('pca', pca), ('logistic', logistic)])\n",
    "\n",
    "X_digits = train_set_x\n",
    "y_digits = train_set_y\n",
    "\n",
    "# Plot the PCA spectrum\n",
    "pca.fit(X_digits)\n",
    "\n",
    "# Prediction\n",
    "n_components = [2,4,8,12]\n",
    "Cs = np.logspace(-4, 4, 3)\n",
    "\n",
    "# Parameters of pipelines can be set using ‘__’ separated parameter names:\n",
    "estimator = GridSearchCV(pipe,\n",
    "                         dict(pca__n_components=n_components,\n",
    "                              logistic__C=Cs))\n",
    "estimator.fit(X_digits, y_digits)\n",
    "print estimator.best_score_"
   ]
  },
  {
   "cell_type": "code",
   "execution_count": null,
   "metadata": {
    "hideCode": false,
    "hidePrompt": false
   },
   "outputs": [],
   "source": [
    "from sklearn import ensemble\n",
    "from sklearn.model_selection import cross_val_score\n",
    "\n",
    "params = {'n_estimators': 100, 'max_leaf_nodes': 4, 'max_depth': None, 'random_state': 2,'min_samples_split': 5}\n",
    "\n",
    "clf = ensemble.GradientBoostingClassifier(**params)\n",
    "scores = cross_val_score(clf, X_digits, y_digits, cv=10)\n",
    "print scores"
   ]
  },
  {
   "cell_type": "code",
   "execution_count": null,
   "metadata": {
    "hideCode": false,
    "hidePrompt": false
   },
   "outputs": [],
   "source": [
    "from sklearn import svm\n",
    "\n",
    "clf = svm.SVC(kernel=\"linear\")\n",
    "scores = cross_val_score(clf, X_digits, y_digits, cv=10)\n",
    "print scores"
   ]
  },
  {
   "cell_type": "code",
   "execution_count": null,
   "metadata": {
    "hideCode": false,
    "hidePrompt": false
   },
   "outputs": [],
   "source": [
    "import xgboost"
   ]
  },
  {
   "cell_type": "code",
   "execution_count": null,
   "metadata": {
    "hideCode": false,
    "hidePrompt": false
   },
   "outputs": [],
   "source": [
    "from sklearn import svm\n",
    "from sklearn.model_selection import GridSearchCV\n",
    "\n",
    "parameters = {'kernel':('linear', 'rbf'), 'C':[0.01,1, 10]}\n",
    "svc = svm.SVC()\n",
    "clf = GridSearchCV(svc, parameters)\n",
    "clf.fit(X_digits, y_digits)"
   ]
  },
  {
   "cell_type": "code",
   "execution_count": null,
   "metadata": {},
   "outputs": [],
   "source": [
    "clf.best_score_"
   ]
  },
  {
   "cell_type": "code",
   "execution_count": null,
   "metadata": {},
   "outputs": [],
   "source": [
    "clf.best_estimator_"
   ]
  },
  {
   "cell_type": "code",
   "execution_count": null,
   "metadata": {},
   "outputs": [],
   "source": []
  }
 ],
 "metadata": {
  "hide_code_all_hidden": false,
  "kernelspec": {
   "display_name": "Python 2",
   "language": "python",
   "name": "python2"
  },
  "language_info": {
   "codemirror_mode": {
    "name": "ipython",
    "version": 2
   },
   "file_extension": ".py",
   "mimetype": "text/x-python",
   "name": "python",
   "nbconvert_exporter": "python",
   "pygments_lexer": "ipython2",
   "version": "2.7.13"
  }
 },
 "nbformat": 4,
 "nbformat_minor": 2
}
